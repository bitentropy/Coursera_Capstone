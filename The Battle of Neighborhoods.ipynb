{
    "cells": [
        {
            "cell_type": "markdown",
            "metadata": {
                "collapsed": true
            },
            "source": "## The Battle of Neighborhoods (Week 1)\n### Coursera Capstone Project\n### Part 1 : Introduction and Data Sections"
        },
        {
            "cell_type": "markdown",
            "metadata": {},
            "source": "### I.   Introduction \n### Problem background:\n\n   The Covid-19 Pandemic started from Wu Hang, China at the end of 2019 and is spreading all around the world. \nUntil 06/24/2020, the pandemic affected 9,392,847 cases, with 2% is serious and 480,559 deaths or 9% from the closed cases (1). The United States is the leading country damaged by this virus. According to centers for disease control and prevention (CDC), there are more than 2.3 million people contracting this virus with more than 120 thousand people died (2).\nIn that tragedy, New York city is the epicenter of the USA with more than 200 000 cases and 17 600 deaths (3). High density of population, very quick transmission from person to person and the lack of protect medical equipment such as masks, protective cloths and ventilators play the key role to push the big apple to the chaos.\nWith the effort and sacrifice of medical team and the New York leaders, the pandemic is temporally controlled, and New Yorker stepped to the second phase of re-opening in June 22nd 2020 (3).\n\n   Re-opening the business is important, but it is high risk of second wave of pandemic outbreak. That is a big challenge for both government and other organizations to help the residents go back to work with the social distancing and face masks, but there are not available cures and vaccines. Mental and material help is never enough in this period. How can an organization or an individual support the New York city resident efficiently in this situation? A reasonable strategy and good understanding the pandemic impact on NYC are important steps for successful support service.\n \n    \n### Problem description:\n\n   A non-profit organization has a project to support the New York City (NYC) hospitals. The organization manager wants to know where the good place to open office and storage to supply N95 masks and hand sanitizer for all NYC hospitals in the most impacted borough by the Covid 19 virus. From this model, the organization will develop in other boroughs or cities if needed. In order to get the right plan, there are 2 questions need to be resolved:\n 1.\tWhat is the most affected borough by the virus?\n 2.\twhere is the reasonable place to open office or storage closed to the hospitals and in the crowded business areas?\n    \n    \n   To resolve the problems, various factors need to be considered and analyzed to figured out the right solution such as:\n    \n * NYC population and demographics \n * The Covid 19 virus affected cases, hospitalized cases and death until re-opening phase in June 22nd, 2020. \n * Location of Hospitals in NYC. \n * Clusters of business venues. And the other data related need to be analyzed. \n\n\n### Interested Audience\n\nThe objective is to evaluate the most affected borough, and to locate the good location in NYC closed to hospitals and crowded business area. This project is applicable to all profit and non-profit organizations who are interested in medical supply or even individual who want to do business in medical field.  "
        },
        {
            "cell_type": "markdown",
            "metadata": {},
            "source": "### II.   Data\n\n\n 1. New York City population, demographics data will be collected from website:\n     \n    https://www.mapsofworld.com/usa/states/new-york/nyc-boroughs-map.html#\n    \n    From this data, population and square-mile areas in 5 NYC boroughs (Bronx, Brooklin, Manhattan, Queens and Staten Island) will be used to evaluate the relationship between the density and the Covid-19 virus disease.\n    \n    New York GPS data is referred from IBM coursera LAB: https://cocl.us/new_york_dataset\n            \n        \n 2. Dataset of Covid-19 virus disease in five NYC boroughs from beginning until re-opening phase 2 in June 22nd,2020 will be collected from NYChealth github:\n        \n    https://github.com/nychealth/coronavirus-data\n        \n    These datasets are officially published by New York City Health Department. All records from February 29th to June 21st 2020 or 114 records from begining of pandemic until start of phase 2 or re-opening State will be collected.\nThe case count, hospitalization count and death count in 5 boroughs will be used to compare the Covid 19 affect each borough.\n    \n    \n 3. Use Foursquare API to get the hospitals location in 5 boroughs of NYC \n        \n    with the Hospital ID: \"4bf58dd8d48988d196941735\"\n      \n    All hospitals location will be used to understand their distribution in 5 boroughs and to estimate the mean distance to mean coordinates hospital. Visualization of relationship between population density of each borough and hospital locations will be analyzed.\n \n 4. With the useful Foursquare API, analyze the neighborhood venues clusters for understanding crowded business area, hospitals locations and viral affected residents.\n"
        },
        {
            "cell_type": "code",
            "execution_count": 8,
            "metadata": {},
            "outputs": [
                {
                    "name": "stdout",
                    "output_type": "stream",
                    "text": "Solving environment: done\n\n## Package Plan ##\n\n  environment location: /opt/conda/envs/Python36\n\n  added / updated specs: \n    - geopy\n\n\nThe following packages will be downloaded:\n\n    package                    |            build\n    ---------------------------|-----------------\n    certifi-2020.6.20          |   py36h9f0ad1d_0         151 KB  conda-forge\n    geopy-2.0.0                |     pyh9f0ad1d_0          63 KB  conda-forge\n    python_abi-3.6             |          1_cp36m           4 KB  conda-forge\n    openssl-1.1.1g             |       h516909a_0         2.1 MB  conda-forge\n    geographiclib-1.50         |             py_0          34 KB  conda-forge\n    ca-certificates-2020.6.20  |       hecda079_0         145 KB  conda-forge\n    ------------------------------------------------------------\n                                           Total:         2.5 MB\n\nThe following NEW packages will be INSTALLED:\n\n    geographiclib:   1.50-py_0          conda-forge\n    geopy:           2.0.0-pyh9f0ad1d_0 conda-forge\n    python_abi:      3.6-1_cp36m        conda-forge\n\nThe following packages will be UPDATED:\n\n    ca-certificates: 2020.1.1-0                     --> 2020.6.20-hecda079_0     conda-forge\n    certifi:         2020.6.20-py36_0               --> 2020.6.20-py36h9f0ad1d_0 conda-forge\n    openssl:         1.1.1g-h7b6447c_0              --> 1.1.1g-h516909a_0        conda-forge\n\n\nDownloading and Extracting Packages\ncertifi-2020.6.20    | 151 KB    | ##################################### | 100% \ngeopy-2.0.0          | 63 KB     | ##################################### | 100% \npython_abi-3.6       | 4 KB      | ##################################### | 100% \nopenssl-1.1.1g       | 2.1 MB    | ##################################### | 100% \ngeographiclib-1.50   | 34 KB     | ##################################### | 100% \nca-certificates-2020 | 145 KB    | ##################################### | 100% \nPreparing transaction: done\nVerifying transaction: done\nExecuting transaction: done\nSolving environment: done\n\n## Package Plan ##\n\n  environment location: /opt/conda/envs/Python36\n\n  added / updated specs: \n    - folium=0.5.0\n\n\nThe following packages will be downloaded:\n\n    package                    |            build\n    ---------------------------|-----------------\n    altair-4.1.0               |             py_1         614 KB  conda-forge\n    vincent-0.4.4              |             py_1          28 KB  conda-forge\n    folium-0.5.0               |             py_0          45 KB  conda-forge\n    branca-0.4.1               |             py_0          26 KB  conda-forge\n    ------------------------------------------------------------\n                                           Total:         713 KB\n\nThe following NEW packages will be INSTALLED:\n\n    altair:  4.1.0-py_1 conda-forge\n    branca:  0.4.1-py_0 conda-forge\n    folium:  0.5.0-py_0 conda-forge\n    vincent: 0.4.4-py_1 conda-forge\n\n\nDownloading and Extracting Packages\naltair-4.1.0         | 614 KB    | ##################################### | 100% \nvincent-0.4.4        | 28 KB     | ##################################### | 100% \nfolium-0.5.0         | 45 KB     | ##################################### | 100% \nbranca-0.4.1         | 26 KB     | ##################################### | 100% \nPreparing transaction: done\nVerifying transaction: done\nExecuting transaction: done\nSearching for beautifulsoup4\nBest match: beautifulsoup4 4.7.1\nAdding beautifulsoup4 4.7.1 to easy-install.pth file\n\nUsing /opt/conda/envs/Python36/lib/python3.6/site-packages\nProcessing dependencies for beautifulsoup4\nFinished processing dependencies for beautifulsoup4\nRequirement already satisfied: beautifulsoup4 in /opt/conda/envs/Python36/lib/python3.6/site-packages (4.7.1)\nRequirement already satisfied: soupsieve>=1.2 in /opt/conda/envs/Python36/lib/python3.6/site-packages (from beautifulsoup4) (1.7.1)\nSearching for lxml\nBest match: lxml 4.3.1\nAdding lxml 4.3.1 to easy-install.pth file\n\nUsing /opt/conda/envs/Python36/lib/python3.6/site-packages\nProcessing dependencies for lxml\nFinished processing dependencies for lxml\nRequirement already satisfied: lxml in /opt/conda/envs/Python36/lib/python3.6/site-packages (4.3.1)\nLibraries imported.\n"
                }
            ],
            "source": "import numpy as np # library to handle data in a vectorized manner\n\nimport pandas as pd # library for data analsysis\npd.set_option('display.max_columns', None)\npd.set_option('display.max_rows', None)\nimport requests # library to handle requests\nfrom pandas.io.json import json_normalize \n\n\n!conda install -c conda-forge geopy --yes \nfrom geopy.geocoders import Nominatim\nimport os\n\n!conda install -c conda-forge folium=0.5.0 --yes\nimport folium # map rendering library\nfrom folium import plugins\n\n!easy_install beautifulsoup4\n!pip install beautifulsoup4\n\n!easy_install lxml\n!pip install lxml\n\nimport seaborn as sns\n\n# import k-means from clustering stage\nfrom sklearn.cluster import KMeans\n\nimport json\nimport time\nimport matplotlib.pyplot as plt\nimport matplotlib.cm as cm\nimport matplotlib.colors as colors\n%matplotlib inline\nprint('Libraries imported.')"
        },
        {
            "cell_type": "code",
            "execution_count": 14,
            "metadata": {},
            "outputs": [
                {
                    "name": "stdout",
                    "output_type": "stream",
                    "text": "Your credentails: 582027251\nCLIENT_ID: CMO112QPJVULQSTSGPTAGBPTIM2ENHRR54NQNLAHRTYSYDTW\n"
                }
            ],
            "source": "CLIENT_ID = 'CMO112QPJVULQSTSGPTAGBPTIM2ENHRR54NQNLAHRTYSYDTW' #  Foursquare ID\nCLIENT_SECRET = '3ZVXR3RN4B1RMBM1OWPL5PYIECSNWEMK0AA4EYU3IWW0WZ3E' #  Foursquare Secret\nVERSION = '20180605' # Foursquare API version\n\nprint('Your credentails: 582027251')\nprint('CLIENT_ID: ' + CLIENT_ID)\n"
        },
        {
            "cell_type": "code",
            "execution_count": 15,
            "metadata": {},
            "outputs": [],
            "source": "def get_new_york_data():\n    url='https://cocl.us/new_york_dataset'\n    resp=requests.get(url).json()\n    # all data is present in features label\n    features=resp['features']\n    \n    # define the dataframe columns\n    column_names = ['Borough', 'Neighborhood', 'Latitude', 'Longitude'] \n    # instantiate the dataframe\n    new_york_data = pd.DataFrame(columns=column_names)\n    \n    for data in features:\n        borough = data['properties']['borough'] \n        neighborhood_name = data['properties']['name']\n        \n        neighborhood_latlon = data['geometry']['coordinates']\n        neighborhood_lat = neighborhood_latlon[1]\n        neighborhood_lon = neighborhood_latlon[0]\n    \n        new_york_data = new_york_data.append({'Borough': borough,\n                                          'Neighborhood': neighborhood_name,\n                                          'Latitude': neighborhood_lat,\n                                          'Longitude': neighborhood_lon}, ignore_index=True)\n    \n    return new_york_data"
        },
        {
            "cell_type": "code",
            "execution_count": 17,
            "metadata": {},
            "outputs": [],
            "source": "# get new york data\nnew_york_data=get_new_york_data()\n"
        },
        {
            "cell_type": "code",
            "execution_count": 18,
            "metadata": {},
            "outputs": [
                {
                    "data": {
                        "text/html": "<div>\n<style scoped>\n    .dataframe tbody tr th:only-of-type {\n        vertical-align: middle;\n    }\n\n    .dataframe tbody tr th {\n        vertical-align: top;\n    }\n\n    .dataframe thead th {\n        text-align: right;\n    }\n</style>\n<table border=\"1\" class=\"dataframe\">\n  <thead>\n    <tr style=\"text-align: right;\">\n      <th></th>\n      <th>Borough</th>\n      <th>Neighborhood</th>\n      <th>Latitude</th>\n      <th>Longitude</th>\n    </tr>\n  </thead>\n  <tbody>\n    <tr>\n      <th>0</th>\n      <td>Bronx</td>\n      <td>Wakefield</td>\n      <td>40.894705</td>\n      <td>-73.847201</td>\n    </tr>\n    <tr>\n      <th>1</th>\n      <td>Bronx</td>\n      <td>Co-op City</td>\n      <td>40.874294</td>\n      <td>-73.829939</td>\n    </tr>\n    <tr>\n      <th>2</th>\n      <td>Bronx</td>\n      <td>Eastchester</td>\n      <td>40.887556</td>\n      <td>-73.827806</td>\n    </tr>\n    <tr>\n      <th>3</th>\n      <td>Bronx</td>\n      <td>Fieldston</td>\n      <td>40.895437</td>\n      <td>-73.905643</td>\n    </tr>\n    <tr>\n      <th>4</th>\n      <td>Bronx</td>\n      <td>Riverdale</td>\n      <td>40.890834</td>\n      <td>-73.912585</td>\n    </tr>\n  </tbody>\n</table>\n</div>",
                        "text/plain": "  Borough Neighborhood   Latitude  Longitude\n0   Bronx    Wakefield  40.894705 -73.847201\n1   Bronx   Co-op City  40.874294 -73.829939\n2   Bronx  Eastchester  40.887556 -73.827806\n3   Bronx    Fieldston  40.895437 -73.905643\n4   Bronx    Riverdale  40.890834 -73.912585"
                    },
                    "execution_count": 18,
                    "metadata": {},
                    "output_type": "execute_result"
                }
            ],
            "source": "new_york_data.head()"
        },
        {
            "cell_type": "markdown",
            "metadata": {},
            "source": "### Reference\n1. https://www.worldometers.info/coronavirus/\n2. https://www.cdc.gov/coronavirus/2019-ncov/cases-updates/us-cases-deaths.html   \n3. https://www1.nyc.gov/site/doh/covid/covid-19-data.page\n4. https://www.mapsofworld.com/usa/states/new-york/nyc-boroughs-map.html"
        },
        {
            "cell_type": "markdown",
            "metadata": {},
            "source": "Thank you!"
        },
        {
            "cell_type": "code",
            "execution_count": null,
            "metadata": {},
            "outputs": [],
            "source": ""
        },
        {
            "cell_type": "code",
            "execution_count": null,
            "metadata": {},
            "outputs": [],
            "source": "#### III. Methodology"
        },
        {
            "cell_type": "code",
            "execution_count": null,
            "metadata": {},
            "outputs": [],
            "source": "#### IV. Result"
        },
        {
            "cell_type": "code",
            "execution_count": null,
            "metadata": {},
            "outputs": [],
            "source": "#### V. Discussion"
        },
        {
            "cell_type": "code",
            "execution_count": null,
            "metadata": {},
            "outputs": [],
            "source": "#### VI. Conclusion"
        }
    ],
    "metadata": {
        "kernelspec": {
            "display_name": "Python 3.6",
            "language": "python",
            "name": "python3"
        },
        "language_info": {
            "codemirror_mode": {
                "name": "ipython",
                "version": 3
            },
            "file_extension": ".py",
            "mimetype": "text/x-python",
            "name": "python",
            "nbconvert_exporter": "python",
            "pygments_lexer": "ipython3",
            "version": "3.6.9"
        }
    },
    "nbformat": 4,
    "nbformat_minor": 1
}