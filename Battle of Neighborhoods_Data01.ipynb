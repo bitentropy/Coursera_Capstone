{
 "cells": [
  {
   "cell_type": "markdown",
   "metadata": {},
   "source": [
    "### DATASET 1: COLLECTION AND PROCESSING THE COVID-19 CASES IN NEW YORK CITY FROM 02/29/2020 TO 06/21/2020\n",
    "<h1>Table of contents</h1>\n",
    "\n",
    "<div class=\"alert alert-block alert-info\" style=\"margin-top: 20px\">\n",
    "    <ol>\n",
    "        <li><a href=\"#about_dataset\">About the data set 1</a></li>\n",
    "        <li><a href=\"#NYC_C0V-19\">Acquisition and Processing NYC_C0V-19 data</a></li>\n",
    "        <li><a href=\"#NYC_Demographic_data\">Acquisition and Processing NYC Demographic data</a></li>\n",
    "        <li><a href=\"#Final_Data\">NYC Demographic and CoV-19 virus Data</a></li>\n",
    "        <li><a href=\"#Visualization\">Visualization</a></li>\n",
    "        <li><a href=\"#evaluation\">Evaluation</a></li>\n",
    "    </ol>\n",
    "</div>\n",
    "<br>\n",
    "<hr>"
   ]
  },
  {
   "cell_type": "markdown",
   "metadata": {},
   "source": [
    "<div id=\"about_dataset\">\n",
    "    <h2>1. About the dataset 1</h2>\n",
    "    Dataset 1 includes: Acquisition, processing Covid 19 virus data, NYC Demographic data and Visual analysis.\n",
    "    <br>\n",
    "    1. Downloading 5 datasets of Covid 19 Virus in Manhattan, Queens, Brooklyns, Bronx and Staten Island Boroughs from https://www1.nyc.gov/site/doh/covid/covid-19-data-boroughs.page, on the section Daily data. Website data is up-to-date, but we only need the data from beginning until June 21 or before NYC re-openning date.\n",
    "    5 Borough Datasets  were saved and processed to make a table of sum of all cases, hospitalizations and deaths in 5 borroughs.    \n",
    "    <br>\n",
    "    <br>\n",
    "    2. Using BeautifulSoup to get NYC Demographics from website: https://www.mapsofworld.com/usa/states/new-york/nyc-boroughs-map.html, to make the Demographic table\n",
    "    <br>\n",
    "    <br>\n",
    "    3. Combine Covid 19 virus table and Demographic table for visual analysis\n",
    "    <br>\n",
    "    \n",
    "</div>\n"
   ]
  },
  {
   "cell_type": "markdown",
   "metadata": {},
   "source": [
    "<div id=\"NYC_C0V-19\">\n",
    "    <h2>2. Acquisition and Processing NYC_C0V-19 data </h2>\n",
    "  \n",
    "</div>"
   ]
  },
  {
   "cell_type": "code",
   "execution_count": 40,
   "metadata": {},
   "outputs": [],
   "source": [
    "import numpy as np  \n",
    "import pandas as pd "
   ]
  },
  {
   "cell_type": "code",
   "execution_count": 41,
   "metadata": {},
   "outputs": [],
   "source": [
    "#5 Borough datasets are retrieved for preprocessing data\n",
    "csv_path = 'IBM COURSERA/data-rqvAu_MN.csv'\n",
    "df_MN = pd.read_csv(csv_path, delimiter = ',') # Manhattan recordset\n",
    "csv_path = 'IBM COURSERA/data-Q7Zjo_BK.csv'\n",
    "df_BK = pd.read_csv(csv_path, delimiter = ',') # Brooklyn recordse\n",
    "csv_path = 'IBM COURSERA/data-GHyLp_Bronx.csv'\n",
    "df_Bronx = pd.read_csv(csv_path, delimiter = ',') # Bronx recordse\n",
    "csv_path = 'IBM COURSERA/data-HXuvT_QN.csv'\n",
    "df_QN = pd.read_csv(csv_path, delimiter = ',') # Qeens recordse\n",
    "csv_path = 'IBM COURSERA/data-u1Bfw-SI.csv'\n",
    "df_SI = pd.read_csv(csv_path, delimiter = ',') # Staten Island recordse\n"
   ]
  },
  {
   "cell_type": "code",
   "execution_count": 42,
   "metadata": {},
   "outputs": [
    {
     "data": {
      "text/html": [
       "<div>\n",
       "<style scoped>\n",
       "    .dataframe tbody tr th:only-of-type {\n",
       "        vertical-align: middle;\n",
       "    }\n",
       "\n",
       "    .dataframe tbody tr th {\n",
       "        vertical-align: top;\n",
       "    }\n",
       "\n",
       "    .dataframe thead th {\n",
       "        text-align: right;\n",
       "    }\n",
       "</style>\n",
       "<table border=\"1\" class=\"dataframe\">\n",
       "  <thead>\n",
       "    <tr style=\"text-align: right;\">\n",
       "      <th></th>\n",
       "      <th>DATE_OF_INTEREST</th>\n",
       "      <th>Cases</th>\n",
       "      <th>Hospitalizations</th>\n",
       "      <th>Deaths</th>\n",
       "    </tr>\n",
       "  </thead>\n",
       "  <tbody>\n",
       "    <tr>\n",
       "      <th>110</th>\n",
       "      <td>06/18/2020</td>\n",
       "      <td>57</td>\n",
       "      <td>5</td>\n",
       "      <td>4</td>\n",
       "    </tr>\n",
       "    <tr>\n",
       "      <th>111</th>\n",
       "      <td>06/19/2020</td>\n",
       "      <td>55</td>\n",
       "      <td>5</td>\n",
       "      <td>4</td>\n",
       "    </tr>\n",
       "    <tr>\n",
       "      <th>112</th>\n",
       "      <td>06/20/2020</td>\n",
       "      <td>43</td>\n",
       "      <td>5</td>\n",
       "      <td>2</td>\n",
       "    </tr>\n",
       "    <tr>\n",
       "      <th>113</th>\n",
       "      <td>06/21/2020</td>\n",
       "      <td>22</td>\n",
       "      <td>3</td>\n",
       "      <td>4</td>\n",
       "    </tr>\n",
       "    <tr>\n",
       "      <th>114</th>\n",
       "      <td>06/22/2020</td>\n",
       "      <td>54</td>\n",
       "      <td>5</td>\n",
       "      <td>5</td>\n",
       "    </tr>\n",
       "    <tr>\n",
       "      <th>115</th>\n",
       "      <td>06/23/2020</td>\n",
       "      <td>43</td>\n",
       "      <td>2</td>\n",
       "      <td>3</td>\n",
       "    </tr>\n",
       "    <tr>\n",
       "      <th>116</th>\n",
       "      <td>06/24/2020</td>\n",
       "      <td>34</td>\n",
       "      <td>4</td>\n",
       "      <td>2</td>\n",
       "    </tr>\n",
       "    <tr>\n",
       "      <th>117</th>\n",
       "      <td>06/25/2020</td>\n",
       "      <td>24</td>\n",
       "      <td>4</td>\n",
       "      <td>1</td>\n",
       "    </tr>\n",
       "    <tr>\n",
       "      <th>118</th>\n",
       "      <td>06/26/2020</td>\n",
       "      <td>12</td>\n",
       "      <td>0</td>\n",
       "      <td>0</td>\n",
       "    </tr>\n",
       "    <tr>\n",
       "      <th>119</th>\n",
       "      <td>06/27/2020</td>\n",
       "      <td>0</td>\n",
       "      <td>0</td>\n",
       "      <td>0</td>\n",
       "    </tr>\n",
       "  </tbody>\n",
       "</table>\n",
       "</div>"
      ],
      "text/plain": [
       "    DATE_OF_INTEREST  Cases  Hospitalizations  Deaths\n",
       "110       06/18/2020     57                 5       4\n",
       "111       06/19/2020     55                 5       4\n",
       "112       06/20/2020     43                 5       2\n",
       "113       06/21/2020     22                 3       4\n",
       "114       06/22/2020     54                 5       5\n",
       "115       06/23/2020     43                 2       3\n",
       "116       06/24/2020     34                 4       2\n",
       "117       06/25/2020     24                 4       1\n",
       "118       06/26/2020     12                 0       0\n",
       "119       06/27/2020      0                 0       0"
      ]
     },
     "execution_count": 42,
     "metadata": {},
     "output_type": "execute_result"
    }
   ],
   "source": [
    "# Verify Manhattan dataset. \n",
    "df_MN.tail(10)"
   ]
  },
  {
   "cell_type": "code",
   "execution_count": 43,
   "metadata": {},
   "outputs": [
    {
     "data": {
      "text/plain": [
       "DATE_OF_INTEREST    object\n",
       "Cases                int64\n",
       "Hospitalizations     int64\n",
       "Deaths               int64\n",
       "dtype: object"
      ]
     },
     "execution_count": 43,
     "metadata": {},
     "output_type": "execute_result"
    }
   ],
   "source": [
    "df_MN.dtypes # Verifying "
   ]
  },
  {
   "cell_type": "code",
   "execution_count": 44,
   "metadata": {},
   "outputs": [],
   "source": [
    "# Collecting data before NYC re-opening on 06/21/2020 or from record 0 to record 113.\n",
    "data_MN=df_MN[0:114]\n",
    "data_Bronx=df_Bronx[0:114]\n",
    "data_BK=df_BK[0:114]\n",
    "data_QN=df_QN[0:114]\n",
    "data_SI=df_SI[0:114]\n"
   ]
  },
  {
   "cell_type": "code",
   "execution_count": 45,
   "metadata": {},
   "outputs": [
    {
     "data": {
      "text/html": [
       "<div>\n",
       "<style scoped>\n",
       "    .dataframe tbody tr th:only-of-type {\n",
       "        vertical-align: middle;\n",
       "    }\n",
       "\n",
       "    .dataframe tbody tr th {\n",
       "        vertical-align: top;\n",
       "    }\n",
       "\n",
       "    .dataframe thead th {\n",
       "        text-align: right;\n",
       "    }\n",
       "</style>\n",
       "<table border=\"1\" class=\"dataframe\">\n",
       "  <thead>\n",
       "    <tr style=\"text-align: right;\">\n",
       "      <th></th>\n",
       "      <th>DATE_OF_INTEREST</th>\n",
       "      <th>Cases</th>\n",
       "      <th>Hospitalizations</th>\n",
       "      <th>Deaths</th>\n",
       "    </tr>\n",
       "  </thead>\n",
       "  <tbody>\n",
       "    <tr>\n",
       "      <th>109</th>\n",
       "      <td>06/17/2020</td>\n",
       "      <td>68</td>\n",
       "      <td>5</td>\n",
       "      <td>3</td>\n",
       "    </tr>\n",
       "    <tr>\n",
       "      <th>110</th>\n",
       "      <td>06/18/2020</td>\n",
       "      <td>57</td>\n",
       "      <td>5</td>\n",
       "      <td>4</td>\n",
       "    </tr>\n",
       "    <tr>\n",
       "      <th>111</th>\n",
       "      <td>06/19/2020</td>\n",
       "      <td>55</td>\n",
       "      <td>5</td>\n",
       "      <td>4</td>\n",
       "    </tr>\n",
       "    <tr>\n",
       "      <th>112</th>\n",
       "      <td>06/20/2020</td>\n",
       "      <td>43</td>\n",
       "      <td>5</td>\n",
       "      <td>2</td>\n",
       "    </tr>\n",
       "    <tr>\n",
       "      <th>113</th>\n",
       "      <td>06/21/2020</td>\n",
       "      <td>22</td>\n",
       "      <td>3</td>\n",
       "      <td>4</td>\n",
       "    </tr>\n",
       "  </tbody>\n",
       "</table>\n",
       "</div>"
      ],
      "text/plain": [
       "    DATE_OF_INTEREST  Cases  Hospitalizations  Deaths\n",
       "109       06/17/2020     68                 5       3\n",
       "110       06/18/2020     57                 5       4\n",
       "111       06/19/2020     55                 5       4\n",
       "112       06/20/2020     43                 5       2\n",
       "113       06/21/2020     22                 3       4"
      ]
     },
     "execution_count": 45,
     "metadata": {},
     "output_type": "execute_result"
    }
   ],
   "source": [
    "data_MN.tail() # Verifying after selection"
   ]
  },
  {
   "cell_type": "code",
   "execution_count": 46,
   "metadata": {},
   "outputs": [
    {
     "name": "stderr",
     "output_type": "stream",
     "text": [
      "C:\\Users\\Farmboy\\anaconda3\\envs\\Pandas\\lib\\site-packages\\ipykernel_launcher.py:2: FutureWarning: The pandas.np module is deprecated and will be removed from pandas in a future version. Import numpy directly instead\n",
      "  \n",
      "C:\\Users\\Farmboy\\anaconda3\\envs\\Pandas\\lib\\site-packages\\pandas\\core\\indexing.py:671: SettingWithCopyWarning: \n",
      "A value is trying to be set on a copy of a slice from a DataFrame\n",
      "\n",
      "See the caveats in the documentation: https://pandas.pydata.org/pandas-docs/stable/user_guide/indexing.html#returning-a-view-versus-a-copy\n",
      "  self._setitem_with_indexer(indexer, value)\n",
      "C:\\Users\\Farmboy\\anaconda3\\envs\\Pandas\\lib\\site-packages\\ipykernel_launcher.py:4: FutureWarning: The pandas.np module is deprecated and will be removed from pandas in a future version. Import numpy directly instead\n",
      "  after removing the cwd from sys.path.\n",
      "C:\\Users\\Farmboy\\anaconda3\\envs\\Pandas\\lib\\site-packages\\ipykernel_launcher.py:6: FutureWarning: The pandas.np module is deprecated and will be removed from pandas in a future version. Import numpy directly instead\n",
      "  \n",
      "C:\\Users\\Farmboy\\anaconda3\\envs\\Pandas\\lib\\site-packages\\ipykernel_launcher.py:8: FutureWarning: The pandas.np module is deprecated and will be removed from pandas in a future version. Import numpy directly instead\n",
      "  \n",
      "C:\\Users\\Farmboy\\anaconda3\\envs\\Pandas\\lib\\site-packages\\ipykernel_launcher.py:10: FutureWarning: The pandas.np module is deprecated and will be removed from pandas in a future version. Import numpy directly instead\n",
      "  # Remove the CWD from sys.path while we load stuff.\n"
     ]
    }
   ],
   "source": [
    "# Get SUM values of Cases, Hospitalizations adn Deaths in 5 Boroughs\n",
    "data_MN.loc['total'] = data_MN.select_dtypes(pd.np.number).sum()\n",
    "Total_MN=data_MN.tail(1)\n",
    "data_Bronx.loc['total'] = data_Bronx.select_dtypes(pd.np.number).sum()\n",
    "Total_Bronx=data_Bronx.tail(1)\n",
    "data_BK.loc['total'] = data_BK.select_dtypes(pd.np.number).sum()\n",
    "Total_BK=data_BK.tail(1)\n",
    "data_QN.loc['total'] = data_QN.select_dtypes(pd.np.number).sum()\n",
    "Total_QN=data_QN.tail(1)\n",
    "data_SI.loc['total'] = data_SI.select_dtypes(pd.np.number).sum()\n",
    "Total_SI=data_SI.tail(1)"
   ]
  },
  {
   "cell_type": "code",
   "execution_count": 47,
   "metadata": {},
   "outputs": [
    {
     "name": "stdout",
     "output_type": "stream",
     "text": [
      "MN       DATE_OF_INTEREST    Cases  Hospitalizations  Deaths\n",
      "total              NaN  26540.0            7817.0  2401.0\n",
      "QN       DATE_OF_INTEREST    Cases  Hospitalizations  Deaths\n",
      "total              NaN  64311.0           16579.0  5352.0\n",
      "BK       DATE_OF_INTEREST    Cases  Hospitalizations  Deaths\n",
      "total              NaN  58444.0           14771.0  5350.0\n",
      "SI       DATE_OF_INTEREST    Cases  Hospitalizations  Deaths\n",
      "total              NaN  13876.0            2267.0   858.0\n",
      "BX       DATE_OF_INTEREST    Cases  Hospitalizations  Deaths\n",
      "total              NaN  47338.0           11834.0  3720.0\n"
     ]
    }
   ],
   "source": [
    "print(\"MN\",Total_MN)\n",
    "print(\"QN\",Total_QN)\n",
    "print(\"BK\",Total_BK)\n",
    "print(\"SI\",Total_SI)\n",
    "print(\"BX\",Total_Bronx)\n"
   ]
  },
  {
   "cell_type": "code",
   "execution_count": 48,
   "metadata": {},
   "outputs": [
    {
     "data": {
      "text/html": [
       "<div>\n",
       "<style scoped>\n",
       "    .dataframe tbody tr th:only-of-type {\n",
       "        vertical-align: middle;\n",
       "    }\n",
       "\n",
       "    .dataframe tbody tr th {\n",
       "        vertical-align: top;\n",
       "    }\n",
       "\n",
       "    .dataframe thead th {\n",
       "        text-align: right;\n",
       "    }\n",
       "</style>\n",
       "<table border=\"1\" class=\"dataframe\">\n",
       "  <thead>\n",
       "    <tr style=\"text-align: right;\">\n",
       "      <th></th>\n",
       "      <th>DATE_OF_INTEREST</th>\n",
       "      <th>Cases</th>\n",
       "      <th>Hospitalizations</th>\n",
       "      <th>Deaths</th>\n",
       "    </tr>\n",
       "  </thead>\n",
       "  <tbody>\n",
       "    <tr>\n",
       "      <th>total</th>\n",
       "      <td>NaN</td>\n",
       "      <td>26540.0</td>\n",
       "      <td>7817.0</td>\n",
       "      <td>2401.0</td>\n",
       "    </tr>\n",
       "    <tr>\n",
       "      <th>total</th>\n",
       "      <td>NaN</td>\n",
       "      <td>64311.0</td>\n",
       "      <td>16579.0</td>\n",
       "      <td>5352.0</td>\n",
       "    </tr>\n",
       "    <tr>\n",
       "      <th>total</th>\n",
       "      <td>NaN</td>\n",
       "      <td>58444.0</td>\n",
       "      <td>14771.0</td>\n",
       "      <td>5350.0</td>\n",
       "    </tr>\n",
       "    <tr>\n",
       "      <th>total</th>\n",
       "      <td>NaN</td>\n",
       "      <td>13876.0</td>\n",
       "      <td>2267.0</td>\n",
       "      <td>858.0</td>\n",
       "    </tr>\n",
       "    <tr>\n",
       "      <th>total</th>\n",
       "      <td>NaN</td>\n",
       "      <td>47338.0</td>\n",
       "      <td>11834.0</td>\n",
       "      <td>3720.0</td>\n",
       "    </tr>\n",
       "  </tbody>\n",
       "</table>\n",
       "</div>"
      ],
      "text/plain": [
       "      DATE_OF_INTEREST    Cases  Hospitalizations  Deaths\n",
       "total              NaN  26540.0            7817.0  2401.0\n",
       "total              NaN  64311.0           16579.0  5352.0\n",
       "total              NaN  58444.0           14771.0  5350.0\n",
       "total              NaN  13876.0            2267.0   858.0\n",
       "total              NaN  47338.0           11834.0  3720.0"
      ]
     },
     "execution_count": 48,
     "metadata": {},
     "output_type": "execute_result"
    }
   ],
   "source": [
    "# Combining all Sum data into one table\n",
    "df_total=Total_MN.append(Total_QN)\n",
    "df_total=df_total.append(Total_BK)\n",
    "df_total=df_total.append(Total_SI)\n",
    "df_total=df_total.append(Total_Bronx)\n",
    "df_total"
   ]
  },
  {
   "cell_type": "code",
   "execution_count": 49,
   "metadata": {},
   "outputs": [
    {
     "data": {
      "text/html": [
       "<div>\n",
       "<style scoped>\n",
       "    .dataframe tbody tr th:only-of-type {\n",
       "        vertical-align: middle;\n",
       "    }\n",
       "\n",
       "    .dataframe tbody tr th {\n",
       "        vertical-align: top;\n",
       "    }\n",
       "\n",
       "    .dataframe thead th {\n",
       "        text-align: right;\n",
       "    }\n",
       "</style>\n",
       "<table border=\"1\" class=\"dataframe\">\n",
       "  <thead>\n",
       "    <tr style=\"text-align: right;\">\n",
       "      <th></th>\n",
       "      <th>Cases</th>\n",
       "      <th>Hospitalizations</th>\n",
       "      <th>Deaths</th>\n",
       "    </tr>\n",
       "  </thead>\n",
       "  <tbody>\n",
       "    <tr>\n",
       "      <th>total</th>\n",
       "      <td>26540.0</td>\n",
       "      <td>7817.0</td>\n",
       "      <td>2401.0</td>\n",
       "    </tr>\n",
       "    <tr>\n",
       "      <th>total</th>\n",
       "      <td>64311.0</td>\n",
       "      <td>16579.0</td>\n",
       "      <td>5352.0</td>\n",
       "    </tr>\n",
       "    <tr>\n",
       "      <th>total</th>\n",
       "      <td>58444.0</td>\n",
       "      <td>14771.0</td>\n",
       "      <td>5350.0</td>\n",
       "    </tr>\n",
       "    <tr>\n",
       "      <th>total</th>\n",
       "      <td>13876.0</td>\n",
       "      <td>2267.0</td>\n",
       "      <td>858.0</td>\n",
       "    </tr>\n",
       "    <tr>\n",
       "      <th>total</th>\n",
       "      <td>47338.0</td>\n",
       "      <td>11834.0</td>\n",
       "      <td>3720.0</td>\n",
       "    </tr>\n",
       "  </tbody>\n",
       "</table>\n",
       "</div>"
      ],
      "text/plain": [
       "         Cases  Hospitalizations  Deaths\n",
       "total  26540.0            7817.0  2401.0\n",
       "total  64311.0           16579.0  5352.0\n",
       "total  58444.0           14771.0  5350.0\n",
       "total  13876.0            2267.0   858.0\n",
       "total  47338.0           11834.0  3720.0"
      ]
     },
     "execution_count": 49,
     "metadata": {},
     "output_type": "execute_result"
    }
   ],
   "source": [
    "# Drop the \"DATE_OF_INTEREST\" column\n",
    "df_total=df_total.drop([\"DATE_OF_INTEREST\"], axis = 1) \n",
    "df_total"
   ]
  },
  {
   "cell_type": "code",
   "execution_count": 50,
   "metadata": {},
   "outputs": [],
   "source": [
    "df_total = pd.DataFrame(df_total) "
   ]
  },
  {
   "cell_type": "code",
   "execution_count": 51,
   "metadata": {},
   "outputs": [
    {
     "data": {
      "text/plain": [
       "Cases               float64\n",
       "Hospitalizations    float64\n",
       "Deaths              float64\n",
       "dtype: object"
      ]
     },
     "execution_count": 51,
     "metadata": {},
     "output_type": "execute_result"
    }
   ],
   "source": [
    "df_total.dtypes"
   ]
  },
  {
   "cell_type": "code",
   "execution_count": 52,
   "metadata": {},
   "outputs": [],
   "source": [
    "Borough = ['Manhattan','Queens','Brooklyn','Staten Island','Bronx']\n",
    "df_total.insert(0, \"Borough\", Borough, True)\n"
   ]
  },
  {
   "cell_type": "code",
   "execution_count": 53,
   "metadata": {},
   "outputs": [],
   "source": [
    "df_total.reset_index(drop=True, inplace=True)"
   ]
  },
  {
   "cell_type": "code",
   "execution_count": 54,
   "metadata": {},
   "outputs": [
    {
     "data": {
      "text/html": [
       "<div>\n",
       "<style scoped>\n",
       "    .dataframe tbody tr th:only-of-type {\n",
       "        vertical-align: middle;\n",
       "    }\n",
       "\n",
       "    .dataframe tbody tr th {\n",
       "        vertical-align: top;\n",
       "    }\n",
       "\n",
       "    .dataframe thead th {\n",
       "        text-align: right;\n",
       "    }\n",
       "</style>\n",
       "<table border=\"1\" class=\"dataframe\">\n",
       "  <thead>\n",
       "    <tr style=\"text-align: right;\">\n",
       "      <th></th>\n",
       "      <th>Borough</th>\n",
       "      <th>Cases</th>\n",
       "      <th>Hospitalizations</th>\n",
       "      <th>Deaths</th>\n",
       "    </tr>\n",
       "  </thead>\n",
       "  <tbody>\n",
       "    <tr>\n",
       "      <th>0</th>\n",
       "      <td>Manhattan</td>\n",
       "      <td>26540.0</td>\n",
       "      <td>7817.0</td>\n",
       "      <td>2401.0</td>\n",
       "    </tr>\n",
       "    <tr>\n",
       "      <th>1</th>\n",
       "      <td>Queens</td>\n",
       "      <td>64311.0</td>\n",
       "      <td>16579.0</td>\n",
       "      <td>5352.0</td>\n",
       "    </tr>\n",
       "    <tr>\n",
       "      <th>2</th>\n",
       "      <td>Brooklyn</td>\n",
       "      <td>58444.0</td>\n",
       "      <td>14771.0</td>\n",
       "      <td>5350.0</td>\n",
       "    </tr>\n",
       "    <tr>\n",
       "      <th>3</th>\n",
       "      <td>Staten Island</td>\n",
       "      <td>13876.0</td>\n",
       "      <td>2267.0</td>\n",
       "      <td>858.0</td>\n",
       "    </tr>\n",
       "    <tr>\n",
       "      <th>4</th>\n",
       "      <td>Bronx</td>\n",
       "      <td>47338.0</td>\n",
       "      <td>11834.0</td>\n",
       "      <td>3720.0</td>\n",
       "    </tr>\n",
       "  </tbody>\n",
       "</table>\n",
       "</div>"
      ],
      "text/plain": [
       "         Borough    Cases  Hospitalizations  Deaths\n",
       "0      Manhattan  26540.0            7817.0  2401.0\n",
       "1         Queens  64311.0           16579.0  5352.0\n",
       "2       Brooklyn  58444.0           14771.0  5350.0\n",
       "3  Staten Island  13876.0            2267.0   858.0\n",
       "4          Bronx  47338.0           11834.0  3720.0"
      ]
     },
     "execution_count": 54,
     "metadata": {},
     "output_type": "execute_result"
    }
   ],
   "source": [
    "# The final step to get NYC Cov-19 virus table\n",
    "df_CoV=df_total.loc[:5]\n",
    "df_CoV"
   ]
  },
  {
   "cell_type": "code",
   "execution_count": 55,
   "metadata": {},
   "outputs": [],
   "source": [
    "df_CoV.to_csv ('Cov_19_NYC.csv',index = False)\n",
    "# Save table "
   ]
  },
  {
   "cell_type": "markdown",
   "metadata": {},
   "source": [
    "<div id=\"NYC_Demographic_data\">\n",
    "    <h2>3. Acquisition and Processing NYC Demographic data </h2>\n",
    "        \n",
    "</div>"
   ]
  },
  {
   "cell_type": "code",
   "execution_count": 56,
   "metadata": {},
   "outputs": [
    {
     "name": "stdout",
     "output_type": "stream",
     "text": [
      "Searching for lxml\n",
      "Best match: lxml 4.5.1\n",
      "Processing lxml-4.5.1-py3.7-win-amd64.egg\n",
      "lxml 4.5.1 is already the active version in easy-install.pth\n",
      "\n",
      "Using c:\\users\\farmboy\\anaconda3\\envs\\pandas\\lib\\site-packages\\lxml-4.5.1-py3.7-win-amd64.egg\n",
      "Processing dependencies for lxml\n",
      "Finished processing dependencies for lxml\n"
     ]
    },
    {
     "name": "stderr",
     "output_type": "stream",
     "text": [
      "WARNING: The easy_install command is deprecated and will be removed in a future version.\n"
     ]
    },
    {
     "name": "stdout",
     "output_type": "stream",
     "text": [
      "Requirement already satisfied: lxml in c:\\users\\farmboy\\anaconda3\\envs\\pandas\\lib\\site-packages\\lxml-4.5.1-py3.7-win-amd64.egg (4.5.1)\n"
     ]
    }
   ],
   "source": [
    "import os\n",
    "import re\n",
    "import requests\n",
    "from bs4 import BeautifulSoup\n",
    "!easy_install lxml\n",
    "!pip install lxml"
   ]
  },
  {
   "cell_type": "code",
   "execution_count": 57,
   "metadata": {
    "scrolled": true
   },
   "outputs": [],
   "source": [
    "web_url1=requests.get('https://www.mapsofworld.com/usa/states/new-york/nyc-boroughs-map.html').text\n",
    "soup = BeautifulSoup(web_url1,'lxml')\n",
    "#print(soup.prettify())"
   ]
  },
  {
   "cell_type": "code",
   "execution_count": 58,
   "metadata": {},
   "outputs": [
    {
     "data": {
      "text/plain": [
       "<table class=\"tableizer-table\">\n",
       "<thead><tr class=\"tableizer-firstrow\"><th>Borough</th><th>County</th><th>Area (sq. miles)</th><th>Population</th></tr></thead><tbody>\n",
       "<tr><td><a href=\"https://www.mapsofworld.com/usa/states/new-york/manhattan-map.html\">Manhattan</a></td><td>New York</td><td>23</td><td>1,636,268</td></tr>\n",
       "<tr><td>Queens</td><td>Queens</td><td>109</td><td>2,321,580</td></tr>\n",
       "<tr><td>Brooklyn</td><td>Kings</td><td>71</td><td>2,621,793</td></tr>\n",
       "<tr><td><a href=\"https://www.mapsofworld.com/islands/staten-island.html\">Staten Island</a></td><td>Richmond</td><td>58</td><td>473,279</td></tr>\n",
       "<tr><td><a href=\"https://www.mapsofworld.com/usa/states/new-york/counties/bronx-county.html\">The Bronx</a></td><td>Bronx </td><td>42</td><td>1,438,159</td></tr>\n",
       "</tbody></table>"
      ]
     },
     "execution_count": 58,
     "metadata": {},
     "output_type": "execute_result"
    }
   ],
   "source": [
    "Demo_table = soup.find('table',{'class':'tableizer-table'})\n",
    "Demo_table"
   ]
  },
  {
   "cell_type": "code",
   "execution_count": 59,
   "metadata": {},
   "outputs": [],
   "source": [
    "def process_num(num):\n",
    "    return float(re.sub(r'[^\\w\\s.]','',num))"
   ]
  },
  {
   "cell_type": "code",
   "execution_count": 60,
   "metadata": {},
   "outputs": [
    {
     "data": {
      "text/plain": [
       "1636268.0"
      ]
     },
     "execution_count": 60,
     "metadata": {},
     "output_type": "execute_result"
    }
   ],
   "source": [
    "num1 = float(re.sub(r'[^\\w\\s.]','','1,636,268'))\n",
    "num1"
   ]
  },
  {
   "cell_type": "code",
   "execution_count": 61,
   "metadata": {},
   "outputs": [],
   "source": [
    "Boroughs =[]\n",
    "Counties =[]\n",
    "Area_sq_miles = []\n",
    "Populations=[]\n",
    "for table in Demo_table:\n",
    "    rows = Demo_table.find_all('tr')\n",
    "    \n",
    "    for row in rows:\n",
    "        cells = row.find_all('td')\n",
    "        \n",
    "        \n",
    "        if len(cells) > 1:\n",
    "            Borough = cells[0]\n",
    "            Boroughs.append(Borough.text.strip())\n",
    "            \n",
    "            County = cells[1]\n",
    "            Counties.append(County.text.strip())\n",
    "    \n",
    "            Area_sq_mile = cells[2]\n",
    "            Area_sq_miles.append(int(Area_sq_mile.text))\n",
    "            \n",
    "            Population = cells[3]\n",
    "            Populations.append(process_num(Population.text.strip()))\n",
    "            \n",
    "         "
   ]
  },
  {
   "cell_type": "code",
   "execution_count": 62,
   "metadata": {},
   "outputs": [
    {
     "data": {
      "text/html": [
       "<div>\n",
       "<style scoped>\n",
       "    .dataframe tbody tr th:only-of-type {\n",
       "        vertical-align: middle;\n",
       "    }\n",
       "\n",
       "    .dataframe tbody tr th {\n",
       "        vertical-align: top;\n",
       "    }\n",
       "\n",
       "    .dataframe thead th {\n",
       "        text-align: right;\n",
       "    }\n",
       "</style>\n",
       "<table border=\"1\" class=\"dataframe\">\n",
       "  <thead>\n",
       "    <tr style=\"text-align: right;\">\n",
       "      <th></th>\n",
       "      <th>Borough</th>\n",
       "      <th>County</th>\n",
       "      <th>Area_sq_miles</th>\n",
       "      <th>Population</th>\n",
       "    </tr>\n",
       "  </thead>\n",
       "  <tbody>\n",
       "    <tr>\n",
       "      <th>0</th>\n",
       "      <td>Manhattan</td>\n",
       "      <td>New York</td>\n",
       "      <td>23</td>\n",
       "      <td>1636268.0</td>\n",
       "    </tr>\n",
       "    <tr>\n",
       "      <th>1</th>\n",
       "      <td>Queens</td>\n",
       "      <td>Queens</td>\n",
       "      <td>109</td>\n",
       "      <td>2321580.0</td>\n",
       "    </tr>\n",
       "    <tr>\n",
       "      <th>2</th>\n",
       "      <td>Brooklyn</td>\n",
       "      <td>Kings</td>\n",
       "      <td>71</td>\n",
       "      <td>2621793.0</td>\n",
       "    </tr>\n",
       "    <tr>\n",
       "      <th>3</th>\n",
       "      <td>Staten Island</td>\n",
       "      <td>Richmond</td>\n",
       "      <td>58</td>\n",
       "      <td>473279.0</td>\n",
       "    </tr>\n",
       "    <tr>\n",
       "      <th>4</th>\n",
       "      <td>The Bronx</td>\n",
       "      <td>Bronx</td>\n",
       "      <td>42</td>\n",
       "      <td>1438159.0</td>\n",
       "    </tr>\n",
       "  </tbody>\n",
       "</table>\n",
       "</div>"
      ],
      "text/plain": [
       "         Borough    County  Area_sq_miles  Population\n",
       "0      Manhattan  New York             23   1636268.0\n",
       "1         Queens    Queens            109   2321580.0\n",
       "2       Brooklyn     Kings             71   2621793.0\n",
       "3  Staten Island  Richmond             58    473279.0\n",
       "4      The Bronx     Bronx             42   1438159.0"
      ]
     },
     "execution_count": 62,
     "metadata": {},
     "output_type": "execute_result"
    }
   ],
   "source": [
    "#Collecting data to DataFrame\n",
    "df1 = pd.DataFrame()\n",
    "df1['Borough'] = Boroughs\n",
    "df1['County'] = Counties\n",
    "df1['Area_sq_miles'] = Area_sq_miles\n",
    "df1['Population'] = Populations  \n",
    "df1.head()"
   ]
  },
  {
   "cell_type": "code",
   "execution_count": 63,
   "metadata": {},
   "outputs": [
    {
     "name": "stdout",
     "output_type": "stream",
     "text": [
      "(15, 4)\n"
     ]
    }
   ],
   "source": [
    "print(df1.shape)"
   ]
  },
  {
   "cell_type": "code",
   "execution_count": 64,
   "metadata": {},
   "outputs": [
    {
     "data": {
      "text/html": [
       "<div>\n",
       "<style scoped>\n",
       "    .dataframe tbody tr th:only-of-type {\n",
       "        vertical-align: middle;\n",
       "    }\n",
       "\n",
       "    .dataframe tbody tr th {\n",
       "        vertical-align: top;\n",
       "    }\n",
       "\n",
       "    .dataframe thead th {\n",
       "        text-align: right;\n",
       "    }\n",
       "</style>\n",
       "<table border=\"1\" class=\"dataframe\">\n",
       "  <thead>\n",
       "    <tr style=\"text-align: right;\">\n",
       "      <th></th>\n",
       "      <th>Borough</th>\n",
       "      <th>Area_sq_miles</th>\n",
       "      <th>Population</th>\n",
       "    </tr>\n",
       "  </thead>\n",
       "  <tbody>\n",
       "    <tr>\n",
       "      <th>0</th>\n",
       "      <td>Manhattan</td>\n",
       "      <td>23</td>\n",
       "      <td>1636268.0</td>\n",
       "    </tr>\n",
       "    <tr>\n",
       "      <th>1</th>\n",
       "      <td>Queens</td>\n",
       "      <td>109</td>\n",
       "      <td>2321580.0</td>\n",
       "    </tr>\n",
       "    <tr>\n",
       "      <th>2</th>\n",
       "      <td>Brooklyn</td>\n",
       "      <td>71</td>\n",
       "      <td>2621793.0</td>\n",
       "    </tr>\n",
       "    <tr>\n",
       "      <th>3</th>\n",
       "      <td>Staten Island</td>\n",
       "      <td>58</td>\n",
       "      <td>473279.0</td>\n",
       "    </tr>\n",
       "    <tr>\n",
       "      <th>4</th>\n",
       "      <td>The Bronx</td>\n",
       "      <td>42</td>\n",
       "      <td>1438159.0</td>\n",
       "    </tr>\n",
       "  </tbody>\n",
       "</table>\n",
       "</div>"
      ],
      "text/plain": [
       "         Borough  Area_sq_miles  Population\n",
       "0      Manhattan             23   1636268.0\n",
       "1         Queens            109   2321580.0\n",
       "2       Brooklyn             71   2621793.0\n",
       "3  Staten Island             58    473279.0\n",
       "4      The Bronx             42   1438159.0"
      ]
     },
     "execution_count": 64,
     "metadata": {},
     "output_type": "execute_result"
    }
   ],
   "source": [
    "# Selecting 5 rows only, because of repeating\n",
    "df2=df1.drop(columns='County')\n",
    "df3=df2.loc[0:4]\n",
    "df3"
   ]
  },
  {
   "cell_type": "code",
   "execution_count": 65,
   "metadata": {},
   "outputs": [
    {
     "name": "stderr",
     "output_type": "stream",
     "text": [
      "C:\\Users\\Farmboy\\anaconda3\\envs\\Pandas\\lib\\site-packages\\pandas\\core\\frame.py:4172: SettingWithCopyWarning: \n",
      "A value is trying to be set on a copy of a slice from a DataFrame\n",
      "\n",
      "See the caveats in the documentation: https://pandas.pydata.org/pandas-docs/stable/user_guide/indexing.html#returning-a-view-versus-a-copy\n",
      "  method=method,\n"
     ]
    }
   ],
   "source": [
    "df4=df3.replace(to_replace =\"The Bronx\", \n",
    "                 value =\"Bronx\", inplace=True) "
   ]
  },
  {
   "cell_type": "code",
   "execution_count": 66,
   "metadata": {},
   "outputs": [
    {
     "data": {
      "text/html": [
       "<div>\n",
       "<style scoped>\n",
       "    .dataframe tbody tr th:only-of-type {\n",
       "        vertical-align: middle;\n",
       "    }\n",
       "\n",
       "    .dataframe tbody tr th {\n",
       "        vertical-align: top;\n",
       "    }\n",
       "\n",
       "    .dataframe thead th {\n",
       "        text-align: right;\n",
       "    }\n",
       "</style>\n",
       "<table border=\"1\" class=\"dataframe\">\n",
       "  <thead>\n",
       "    <tr style=\"text-align: right;\">\n",
       "      <th></th>\n",
       "      <th>Borough</th>\n",
       "      <th>Area_sq_miles</th>\n",
       "      <th>Population</th>\n",
       "    </tr>\n",
       "  </thead>\n",
       "  <tbody>\n",
       "    <tr>\n",
       "      <th>0</th>\n",
       "      <td>Manhattan</td>\n",
       "      <td>23</td>\n",
       "      <td>1636268.0</td>\n",
       "    </tr>\n",
       "    <tr>\n",
       "      <th>1</th>\n",
       "      <td>Queens</td>\n",
       "      <td>109</td>\n",
       "      <td>2321580.0</td>\n",
       "    </tr>\n",
       "    <tr>\n",
       "      <th>2</th>\n",
       "      <td>Brooklyn</td>\n",
       "      <td>71</td>\n",
       "      <td>2621793.0</td>\n",
       "    </tr>\n",
       "    <tr>\n",
       "      <th>3</th>\n",
       "      <td>Staten Island</td>\n",
       "      <td>58</td>\n",
       "      <td>473279.0</td>\n",
       "    </tr>\n",
       "    <tr>\n",
       "      <th>4</th>\n",
       "      <td>Bronx</td>\n",
       "      <td>42</td>\n",
       "      <td>1438159.0</td>\n",
       "    </tr>\n",
       "  </tbody>\n",
       "</table>\n",
       "</div>"
      ],
      "text/plain": [
       "         Borough  Area_sq_miles  Population\n",
       "0      Manhattan             23   1636268.0\n",
       "1         Queens            109   2321580.0\n",
       "2       Brooklyn             71   2621793.0\n",
       "3  Staten Island             58    473279.0\n",
       "4          Bronx             42   1438159.0"
      ]
     },
     "execution_count": 66,
     "metadata": {},
     "output_type": "execute_result"
    }
   ],
   "source": [
    "from pandas import DataFrame\n",
    "df4=DataFrame(df3)\n",
    "df4.head()"
   ]
  },
  {
   "cell_type": "code",
   "execution_count": 67,
   "metadata": {},
   "outputs": [],
   "source": [
    "df4[[\"Area_sq_miles\", \"Population\"]] = df3[[\"Area_sq_miles\", \"Population\"]].astype(\"float\")"
   ]
  },
  {
   "cell_type": "code",
   "execution_count": 68,
   "metadata": {},
   "outputs": [
    {
     "data": {
      "text/html": [
       "<div>\n",
       "<style scoped>\n",
       "    .dataframe tbody tr th:only-of-type {\n",
       "        vertical-align: middle;\n",
       "    }\n",
       "\n",
       "    .dataframe tbody tr th {\n",
       "        vertical-align: top;\n",
       "    }\n",
       "\n",
       "    .dataframe thead th {\n",
       "        text-align: right;\n",
       "    }\n",
       "</style>\n",
       "<table border=\"1\" class=\"dataframe\">\n",
       "  <thead>\n",
       "    <tr style=\"text-align: right;\">\n",
       "      <th></th>\n",
       "      <th>Borough</th>\n",
       "      <th>Area_sq_miles</th>\n",
       "      <th>Population</th>\n",
       "      <th>Density</th>\n",
       "    </tr>\n",
       "  </thead>\n",
       "  <tbody>\n",
       "    <tr>\n",
       "      <th>0</th>\n",
       "      <td>Manhattan</td>\n",
       "      <td>23.0</td>\n",
       "      <td>1636268.0</td>\n",
       "      <td>71142.0</td>\n",
       "    </tr>\n",
       "    <tr>\n",
       "      <th>1</th>\n",
       "      <td>Queens</td>\n",
       "      <td>109.0</td>\n",
       "      <td>2321580.0</td>\n",
       "      <td>21299.0</td>\n",
       "    </tr>\n",
       "    <tr>\n",
       "      <th>2</th>\n",
       "      <td>Brooklyn</td>\n",
       "      <td>71.0</td>\n",
       "      <td>2621793.0</td>\n",
       "      <td>36927.0</td>\n",
       "    </tr>\n",
       "    <tr>\n",
       "      <th>3</th>\n",
       "      <td>Staten Island</td>\n",
       "      <td>58.0</td>\n",
       "      <td>473279.0</td>\n",
       "      <td>8160.0</td>\n",
       "    </tr>\n",
       "    <tr>\n",
       "      <th>4</th>\n",
       "      <td>Bronx</td>\n",
       "      <td>42.0</td>\n",
       "      <td>1438159.0</td>\n",
       "      <td>34242.0</td>\n",
       "    </tr>\n",
       "  </tbody>\n",
       "</table>\n",
       "</div>"
      ],
      "text/plain": [
       "         Borough  Area_sq_miles  Population  Density\n",
       "0      Manhattan           23.0   1636268.0  71142.0\n",
       "1         Queens          109.0   2321580.0  21299.0\n",
       "2       Brooklyn           71.0   2621793.0  36927.0\n",
       "3  Staten Island           58.0    473279.0   8160.0\n",
       "4          Bronx           42.0   1438159.0  34242.0"
      ]
     },
     "execution_count": 68,
     "metadata": {},
     "output_type": "execute_result"
    }
   ],
   "source": [
    "# Count the population density or number of resident per square mile\n",
    "df4['Density']=df4['Population']/df4['Area_sq_miles']\n",
    "df4.round({\"Density\":0}) "
   ]
  },
  {
   "cell_type": "code",
   "execution_count": 69,
   "metadata": {},
   "outputs": [],
   "source": [
    "df4.to_csv ('Demo_Newyork.csv',index = False)\n",
    "# Save table "
   ]
  },
  {
   "cell_type": "markdown",
   "metadata": {},
   "source": [
    "<div id=\"Final_Data\">\n",
    "    <h2>4. NYC Demographic and CoV-19 virus Data </h2>\n",
    "  \n",
    "</div>"
   ]
  },
  {
   "cell_type": "code",
   "execution_count": 70,
   "metadata": {},
   "outputs": [
    {
     "data": {
      "text/html": [
       "<div>\n",
       "<style scoped>\n",
       "    .dataframe tbody tr th:only-of-type {\n",
       "        vertical-align: middle;\n",
       "    }\n",
       "\n",
       "    .dataframe tbody tr th {\n",
       "        vertical-align: top;\n",
       "    }\n",
       "\n",
       "    .dataframe thead th {\n",
       "        text-align: right;\n",
       "    }\n",
       "</style>\n",
       "<table border=\"1\" class=\"dataframe\">\n",
       "  <thead>\n",
       "    <tr style=\"text-align: right;\">\n",
       "      <th></th>\n",
       "      <th>Borough</th>\n",
       "      <th>Area_sq_miles</th>\n",
       "      <th>Population</th>\n",
       "      <th>Density</th>\n",
       "      <th>Cases</th>\n",
       "      <th>Hospitalizations</th>\n",
       "      <th>Deaths</th>\n",
       "    </tr>\n",
       "  </thead>\n",
       "  <tbody>\n",
       "    <tr>\n",
       "      <th>0</th>\n",
       "      <td>Manhattan</td>\n",
       "      <td>23.0</td>\n",
       "      <td>1636268.0</td>\n",
       "      <td>71142.086957</td>\n",
       "      <td>26540.0</td>\n",
       "      <td>7817.0</td>\n",
       "      <td>2401.0</td>\n",
       "    </tr>\n",
       "    <tr>\n",
       "      <th>1</th>\n",
       "      <td>Queens</td>\n",
       "      <td>109.0</td>\n",
       "      <td>2321580.0</td>\n",
       "      <td>21298.899083</td>\n",
       "      <td>64311.0</td>\n",
       "      <td>16579.0</td>\n",
       "      <td>5352.0</td>\n",
       "    </tr>\n",
       "    <tr>\n",
       "      <th>2</th>\n",
       "      <td>Brooklyn</td>\n",
       "      <td>71.0</td>\n",
       "      <td>2621793.0</td>\n",
       "      <td>36926.661972</td>\n",
       "      <td>58444.0</td>\n",
       "      <td>14771.0</td>\n",
       "      <td>5350.0</td>\n",
       "    </tr>\n",
       "    <tr>\n",
       "      <th>3</th>\n",
       "      <td>Staten Island</td>\n",
       "      <td>58.0</td>\n",
       "      <td>473279.0</td>\n",
       "      <td>8159.982759</td>\n",
       "      <td>13876.0</td>\n",
       "      <td>2267.0</td>\n",
       "      <td>858.0</td>\n",
       "    </tr>\n",
       "    <tr>\n",
       "      <th>4</th>\n",
       "      <td>Bronx</td>\n",
       "      <td>42.0</td>\n",
       "      <td>1438159.0</td>\n",
       "      <td>34241.880952</td>\n",
       "      <td>47338.0</td>\n",
       "      <td>11834.0</td>\n",
       "      <td>3720.0</td>\n",
       "    </tr>\n",
       "  </tbody>\n",
       "</table>\n",
       "</div>"
      ],
      "text/plain": [
       "         Borough  Area_sq_miles  Population       Density    Cases  \\\n",
       "0      Manhattan           23.0   1636268.0  71142.086957  26540.0   \n",
       "1         Queens          109.0   2321580.0  21298.899083  64311.0   \n",
       "2       Brooklyn           71.0   2621793.0  36926.661972  58444.0   \n",
       "3  Staten Island           58.0    473279.0   8159.982759  13876.0   \n",
       "4          Bronx           42.0   1438159.0  34241.880952  47338.0   \n",
       "\n",
       "   Hospitalizations  Deaths  \n",
       "0            7817.0  2401.0  \n",
       "1           16579.0  5352.0  \n",
       "2           14771.0  5350.0  \n",
       "3            2267.0   858.0  \n",
       "4           11834.0  3720.0  "
      ]
     },
     "execution_count": 70,
     "metadata": {},
     "output_type": "execute_result"
    }
   ],
   "source": [
    "# Combination of Demographic table and Covid-19 table\n",
    "df_uni=pd.merge(df4,df_CoV, on='Borough')\n",
    "df_uni"
   ]
  },
  {
   "cell_type": "code",
   "execution_count": 71,
   "metadata": {},
   "outputs": [
    {
     "data": {
      "text/html": [
       "<div>\n",
       "<style scoped>\n",
       "    .dataframe tbody tr th:only-of-type {\n",
       "        vertical-align: middle;\n",
       "    }\n",
       "\n",
       "    .dataframe tbody tr th {\n",
       "        vertical-align: top;\n",
       "    }\n",
       "\n",
       "    .dataframe thead th {\n",
       "        text-align: right;\n",
       "    }\n",
       "</style>\n",
       "<table border=\"1\" class=\"dataframe\">\n",
       "  <thead>\n",
       "    <tr style=\"text-align: right;\">\n",
       "      <th></th>\n",
       "      <th>Borough</th>\n",
       "      <th>Area_sq_miles</th>\n",
       "      <th>Population</th>\n",
       "      <th>Density</th>\n",
       "      <th>Cases</th>\n",
       "      <th>Hospitalizations</th>\n",
       "      <th>Deaths</th>\n",
       "      <th>Cases_per_sqmile</th>\n",
       "      <th>Cases_per_10000</th>\n",
       "    </tr>\n",
       "  </thead>\n",
       "  <tbody>\n",
       "    <tr>\n",
       "      <th>0</th>\n",
       "      <td>Manhattan</td>\n",
       "      <td>23.0</td>\n",
       "      <td>1636268.0</td>\n",
       "      <td>71142.086957</td>\n",
       "      <td>26540.0</td>\n",
       "      <td>7817.0</td>\n",
       "      <td>2401.0</td>\n",
       "      <td>1153.913043</td>\n",
       "      <td>162.0</td>\n",
       "    </tr>\n",
       "    <tr>\n",
       "      <th>1</th>\n",
       "      <td>Queens</td>\n",
       "      <td>109.0</td>\n",
       "      <td>2321580.0</td>\n",
       "      <td>21298.899083</td>\n",
       "      <td>64311.0</td>\n",
       "      <td>16579.0</td>\n",
       "      <td>5352.0</td>\n",
       "      <td>590.009174</td>\n",
       "      <td>277.0</td>\n",
       "    </tr>\n",
       "    <tr>\n",
       "      <th>2</th>\n",
       "      <td>Brooklyn</td>\n",
       "      <td>71.0</td>\n",
       "      <td>2621793.0</td>\n",
       "      <td>36926.661972</td>\n",
       "      <td>58444.0</td>\n",
       "      <td>14771.0</td>\n",
       "      <td>5350.0</td>\n",
       "      <td>823.154930</td>\n",
       "      <td>223.0</td>\n",
       "    </tr>\n",
       "    <tr>\n",
       "      <th>3</th>\n",
       "      <td>Staten Island</td>\n",
       "      <td>58.0</td>\n",
       "      <td>473279.0</td>\n",
       "      <td>8159.982759</td>\n",
       "      <td>13876.0</td>\n",
       "      <td>2267.0</td>\n",
       "      <td>858.0</td>\n",
       "      <td>239.241379</td>\n",
       "      <td>293.0</td>\n",
       "    </tr>\n",
       "    <tr>\n",
       "      <th>4</th>\n",
       "      <td>Bronx</td>\n",
       "      <td>42.0</td>\n",
       "      <td>1438159.0</td>\n",
       "      <td>34241.880952</td>\n",
       "      <td>47338.0</td>\n",
       "      <td>11834.0</td>\n",
       "      <td>3720.0</td>\n",
       "      <td>1127.095238</td>\n",
       "      <td>329.0</td>\n",
       "    </tr>\n",
       "  </tbody>\n",
       "</table>\n",
       "</div>"
      ],
      "text/plain": [
       "         Borough  Area_sq_miles  Population       Density    Cases  \\\n",
       "0      Manhattan           23.0   1636268.0  71142.086957  26540.0   \n",
       "1         Queens          109.0   2321580.0  21298.899083  64311.0   \n",
       "2       Brooklyn           71.0   2621793.0  36926.661972  58444.0   \n",
       "3  Staten Island           58.0    473279.0   8159.982759  13876.0   \n",
       "4          Bronx           42.0   1438159.0  34241.880952  47338.0   \n",
       "\n",
       "   Hospitalizations  Deaths  Cases_per_sqmile  Cases_per_10000  \n",
       "0            7817.0  2401.0       1153.913043            162.0  \n",
       "1           16579.0  5352.0        590.009174            277.0  \n",
       "2           14771.0  5350.0        823.154930            223.0  \n",
       "3            2267.0   858.0        239.241379            293.0  \n",
       "4           11834.0  3720.0       1127.095238            329.0  "
      ]
     },
     "execution_count": 71,
     "metadata": {},
     "output_type": "execute_result"
    }
   ],
   "source": [
    "df_uni['Cases_per_sqmile']=df_uni['Cases']/df_uni['Area_sq_miles']\n",
    "df_uni.round({\"Cases_per_sqmile\":0}) \n",
    "df_uni['Cases_per_10000']=df_uni['Cases']*10000/df_uni['Population']\n",
    "df_uni.round({\"Cases_per_10000\":0})"
   ]
  },
  {
   "cell_type": "code",
   "execution_count": 72,
   "metadata": {},
   "outputs": [],
   "source": [
    "# Select the columns for Visual analysis\n",
    "df_zone = pd.DataFrame(df_uni,columns=['Borough','Cases_per_sqmile','Cases_per_10000','Area_sq_miles']) \n"
   ]
  },
  {
   "cell_type": "code",
   "execution_count": 73,
   "metadata": {},
   "outputs": [
    {
     "data": {
      "text/html": [
       "<div>\n",
       "<style scoped>\n",
       "    .dataframe tbody tr th:only-of-type {\n",
       "        vertical-align: middle;\n",
       "    }\n",
       "\n",
       "    .dataframe tbody tr th {\n",
       "        vertical-align: top;\n",
       "    }\n",
       "\n",
       "    .dataframe thead th {\n",
       "        text-align: right;\n",
       "    }\n",
       "</style>\n",
       "<table border=\"1\" class=\"dataframe\">\n",
       "  <thead>\n",
       "    <tr style=\"text-align: right;\">\n",
       "      <th></th>\n",
       "      <th>Borough</th>\n",
       "      <th>Cases_per_sqmile</th>\n",
       "      <th>Cases_per_10000</th>\n",
       "      <th>Area_sq_miles</th>\n",
       "    </tr>\n",
       "  </thead>\n",
       "  <tbody>\n",
       "    <tr>\n",
       "      <th>0</th>\n",
       "      <td>Manhattan</td>\n",
       "      <td>1153.913043</td>\n",
       "      <td>162.198368</td>\n",
       "      <td>23.0</td>\n",
       "    </tr>\n",
       "    <tr>\n",
       "      <th>1</th>\n",
       "      <td>Bronx</td>\n",
       "      <td>1127.095238</td>\n",
       "      <td>329.156929</td>\n",
       "      <td>42.0</td>\n",
       "    </tr>\n",
       "    <tr>\n",
       "      <th>2</th>\n",
       "      <td>Brooklyn</td>\n",
       "      <td>823.154930</td>\n",
       "      <td>222.916149</td>\n",
       "      <td>71.0</td>\n",
       "    </tr>\n",
       "    <tr>\n",
       "      <th>3</th>\n",
       "      <td>Queens</td>\n",
       "      <td>590.009174</td>\n",
       "      <td>277.013930</td>\n",
       "      <td>109.0</td>\n",
       "    </tr>\n",
       "    <tr>\n",
       "      <th>4</th>\n",
       "      <td>Staten Island</td>\n",
       "      <td>239.241379</td>\n",
       "      <td>293.188584</td>\n",
       "      <td>58.0</td>\n",
       "    </tr>\n",
       "  </tbody>\n",
       "</table>\n",
       "</div>"
      ],
      "text/plain": [
       "         Borough  Cases_per_sqmile  Cases_per_10000  Area_sq_miles\n",
       "0      Manhattan       1153.913043       162.198368           23.0\n",
       "1          Bronx       1127.095238       329.156929           42.0\n",
       "2       Brooklyn        823.154930       222.916149           71.0\n",
       "3         Queens        590.009174       277.013930          109.0\n",
       "4  Staten Island        239.241379       293.188584           58.0"
      ]
     },
     "execution_count": 73,
     "metadata": {},
     "output_type": "execute_result"
    }
   ],
   "source": [
    "df_zone.sort_values(by='Cases_per_sqmile', inplace=True, ascending=False)\n",
    "df_zone.reset_index(drop=True, inplace=True)     \n",
    "df_zone"
   ]
  },
  {
   "cell_type": "code",
   "execution_count": 74,
   "metadata": {},
   "outputs": [],
   "source": [
    "df_zone.to_csv ('NYC_Demo_CoV.csv',index = False)\n",
    "# Save table "
   ]
  },
  {
   "cell_type": "markdown",
   "metadata": {},
   "source": [
    "<div id=\"Visualization\">\n",
    "    <h2>5. Visualization </h2>\n",
    "  \n",
    "</div>"
   ]
  },
  {
   "cell_type": "code",
   "execution_count": 75,
   "metadata": {},
   "outputs": [
    {
     "name": "stdout",
     "output_type": "stream",
     "text": [
      "Matplotlib version:  3.1.3\n"
     ]
    }
   ],
   "source": [
    "%matplotlib inline\n",
    "import matplotlib as mpl\n",
    "import matplotlib.pyplot as plt\n",
    "import matplotlib.patches as mpatches # needed for waffle Charts\n",
    "\n",
    "mpl.style.use('ggplot') # optional: for ggplot-like style\n",
    "\n",
    "# check for latest version of Matplotlib\n",
    "print ('Matplotlib version: ', mpl.__version__) # >= 2.0.0"
   ]
  },
  {
   "cell_type": "code",
   "execution_count": 76,
   "metadata": {},
   "outputs": [
    {
     "name": "stdout",
     "output_type": "stream",
     "text": [
      "Seaborn installed and imported!\n"
     ]
    }
   ],
   "source": [
    "import seaborn as sns\n",
    "print('Seaborn installed and imported!')"
   ]
  },
  {
   "cell_type": "code",
   "execution_count": 77,
   "metadata": {},
   "outputs": [
    {
     "data": {
      "image/png": "[encoded data removed]",
      "text/plain": [
       "<Figure size 1440x576 with 1 Axes>"
      ]
     },
     "metadata": {},
     "output_type": "display_data"
    }
   ],
   "source": [
    "ax = df_CoV.loc[0:4].plot(kind='bar', stacked=False, figsize=(20, 8)\n",
    "                   )\n",
    "ax.set_title((\"Figure1:Total Covid_19 impact in NYC until June 21st \"), fontsize=18)\n",
    "#ax.set_axcolor('grey')\n",
    "ax.set_xticklabels(df_CoV['Borough'])\n",
    "\n",
    "plt.show()"
   ]
  },
  {
   "cell_type": "code",
   "execution_count": 78,
   "metadata": {},
   "outputs": [
    {
     "data": {
      "image/png": "[encoded data removed]",
      "text/plain": [
       "<Figure size 1440x576 with 1 Axes>"
      ]
     },
     "metadata": {},
     "output_type": "display_data"
    }
   ],
   "source": [
    "ax = df_zone.loc[0:5].plot(kind='bar', stacked=False, figsize=(20, 8))\n",
    "                    \n",
    "ax.set_title((\"Figure2:Covid-19 Cases per square miles and per 10000\"), fontsize=18)\n",
    "\n",
    "ax.set_xticklabels(df_zone['Borough'])\n",
    "\n",
    "plt.show()"
   ]
  },
  {
   "cell_type": "markdown",
   "metadata": {},
   "source": [
    "<div id=\"evaluation\">\n",
    "    <h2>6. Evaluation </h2>\n",
    "  <h5>\n",
    "    <br>\n",
    "    Figure 2 shows: Bronx and Manhattan are leading with approximately 1100 per square mile. Bronx also has the highest cases per 10000.\n",
    "    <br>\n",
    "    <br>  \n",
    "    Based upon the cases per square mile and cases per 10000, apparently Bronx is the most affected borough by the virus.         \n",
    "    <br>\n",
    "      <br>\n",
    "    From these 2 points, 2 groups are selected for further evaluation:\n",
    "        <br>\n",
    "        <br>\n",
    "        <br> Group 1 with dominant cases per square includes Bronx and Manhattan\n",
    "        <br>\n",
    "        <br> Group 2 with higher cases includes Brooklyn and Queens.\n",
    "        <br>\n",
    "        <br> Staten Island stands in the third category. </h5>\n",
    "</div>"
   ]
  },
  {
   "cell_type": "code",
   "execution_count": null,
   "metadata": {},
   "outputs": [],
   "source": []
  }
 ],
 "metadata": {
  "kernelspec": {
   "display_name": "Python 3",
   "language": "python",
   "name": "python3"
  },
  "language_info": {
   "codemirror_mode": {
    "name": "ipython",
    "version": 3
   },
   "file_extension": ".py",
   "mimetype": "text/x-python",
   "name": "python",
   "nbconvert_exporter": "python",
   "pygments_lexer": "ipython3",
   "version": "3.7.1"
  }
 },
 "nbformat": 4,
 "nbformat_minor": 4
}
