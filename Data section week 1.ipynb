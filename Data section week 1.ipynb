{
 "cells": [
  {
   "cell_type": "markdown",
   "metadata": {},
   "source": [
    "### II.   Data \n",
    "    1. New York City population, demographics data will be collected from website:\n",
    "    https://www.mapsofworld.com/usa/states/new-york/nyc-boroughs-map.html#\n",
    "    From this data, population and square-mile areas in 5 NYC boroughs (Bronx, Brooklin, Manhattan, Queens and Staten Island) will be used to evaluate the relationship between the density and the Covid-19 virus disease. \n",
    "        \n",
    "    2. Dataset of Covid-19 virus disease in five NYC boroughs from beginning until re-opening phase 2 in June 22nd, 2020 will be collected from NYChealth github:\n",
    "    https://github.com/nychealth/coronavirus-data\n",
    "    These datasets are officially published by New York City Health Department. All records from February 29th to June 21st 2020 or 114 records from begining of pandemic until start of phase 2 or re-opening State will be collected.\n",
    "    The case count, hospitalization count and death count in 5 boroughs will be used to compare the Covid 19 affect each borough.\n",
    "    \n",
    "    3. Use Foursquare API to get the hospitals location in 5 boroughs of NYC \n",
    "    with the Hospital ID: \"4bf58dd8d48988d196941735\"\n",
    "    All hospitals location will be used to understand their distribution in 5 boroughs and to estimate the mean distance to their mean coordinates.  "
   ]
  },
  {
   "cell_type": "code",
   "execution_count": null,
   "metadata": {},
   "outputs": [],
   "source": [
    "   \n",
    "        "
   ]
  }
 ],
 "metadata": {
  "kernelspec": {
   "display_name": "Python 3",
   "language": "python",
   "name": "python3"
  },
  "language_info": {
   "codemirror_mode": {
    "name": "ipython",
    "version": 3
   },
   "file_extension": ".py",
   "mimetype": "text/x-python",
   "name": "python",
   "nbconvert_exporter": "python",
   "pygments_lexer": "ipython3",
   "version": "3.7.1"
  }
 },
 "nbformat": 4,
 "nbformat_minor": 4
}
