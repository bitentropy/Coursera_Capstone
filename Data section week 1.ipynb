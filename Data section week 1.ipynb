{
 "cells": [
  {
   "cell_type": "markdown",
   "metadata": {},
   "source": [
    "### II.   Data \n",
    "    1. New York City population, demographics data will be collected from website:\n",
    "    https://www.mapsofworld.com/usa/states/new-york/nyc-boroughs-map.html#\n",
    "        \n",
    "    2. Dataset of Covid-19 virus disease in five NYC boroughs from beginning until re-opening phase 2 in June 22nd, 2020 will be collected from NYChealth github:\n",
    "    https://github.com/nychealth/coronavirus-data\n",
    "    These datasets are officially published by New York City Health Department.\n",
    "    \n",
    "    3. Use Foursquare API to get the hospitals location in 5 boroughs of NYC \n",
    "    with the Hospital ID: \"4bf58dd8d48988d196941735\"\n"
   ]
  },
  {
   "cell_type": "code",
   "execution_count": null,
   "metadata": {},
   "outputs": [],
   "source": [
    "   \n",
    "        "
   ]
  }
 ],
 "metadata": {
  "kernelspec": {
   "display_name": "Python 3",
   "language": "python",
   "name": "python3"
  },
  "language_info": {
   "codemirror_mode": {
    "name": "ipython",
    "version": 3
   },
   "file_extension": ".py",
   "mimetype": "text/x-python",
   "name": "python",
   "nbconvert_exporter": "python",
   "pygments_lexer": "ipython3",
   "version": "3.7.1"
  }
 },
 "nbformat": 4,
 "nbformat_minor": 4
}
