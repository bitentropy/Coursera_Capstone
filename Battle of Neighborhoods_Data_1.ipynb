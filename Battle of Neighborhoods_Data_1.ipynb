{
 "cells": [
  {
   "cell_type": "code",
   "execution_count": null,
   "metadata": {},
   "outputs": [],
   "source": [
    "import numpy as np  \n",
    "import pandas as pd "
   ]
  },
  {
   "cell_type": "markdown",
   "metadata": {},
   "source": [
    "<div id=\"about_dataset\">\n",
    "    <h2>1. About the dataset 1</h2>\n",
    "    Dataset 1 includes: Acquisition, processing Covid 19 virus data, NYC Demographic data and Visual analysis.\n",
    "    <br>\n",
    "    1. Downloading 5 datasets of Covid 19 Virus in Manhattan, Queens, Brooklyns, Bronx and Staten Island Boroughs from https://www1.nyc.gov/site/doh/covid/covid-19-data-boroughs.page, on the section Daily data. Website data is up-to-date, but we only need the data from beginning until June 21 or before NYC re-openning date.\n",
    "    5 Borough Datasets  were saved and processed to make a table of sum of all cases, hospitalizations and deaths in 5 borroughs.    \n",
    "    <br>\n",
    "    <br>\n",
    "    2. Using BeautifulSoup to get NYC Demographics from website: https://www.mapsofworld.com/usa/states/new-york/nyc-boroughs-map.html, to make the Demographic table\n",
    "    <br>\n",
    "    <br>\n",
    "    3. Combine Covid 19 virus table and Demographic table for visual analysis\n",
    "    <br>\n",
    "    \n",
    "</div>\n"
   ]
  },
  {
   "cell_type": "markdown",
   "metadata": {},
   "source": [
    "<div id=\"NYC_C0V-19\">\n",
    "    <h2>2. Acquisition and Processing NYC_C0V-19 data </h2>\n",
    "  \n",
    "</div>"
   ]
  },
  {
   "cell_type": "code",
   "execution_count": null,
   "metadata": {},
   "outputs": [],
   "source": [
    "#5 Borough datasets are retrieved for preprocessing data\n",
    "csv_path = 'IBM COURSERA/data-rqvAu_MN.csv'\n",
    "df_MN = pd.read_csv(csv_path, delimiter = ',') # Manhattan recordset\n",
    "csv_path = 'IBM COURSERA/data-Q7Zjo_BK.csv'\n",
    "df_BK = pd.read_csv(csv_path, delimiter = ',') # Brooklyn recordse\n",
    "csv_path = 'IBM COURSERA/data-GHyLp_Bronx.csv'\n",
    "df_Bronx = pd.read_csv(csv_path, delimiter = ',') # Bronx recordse\n",
    "csv_path = 'IBM COURSERA/data-HXuvT_QN.csv'\n",
    "df_QN = pd.read_csv(csv_path, delimiter = ',') # Qeens recordse\n",
    "csv_path = 'IBM COURSERA/data-u1Bfw-SI.csv'\n",
    "df_SI = pd.read_csv(csv_path, delimiter = ',') # Staten Island recordse\n"
   ]
  },
  {
   "cell_type": "code",
   "execution_count": null,
   "metadata": {},
   "outputs": [],
   "source": [
    "# Verify Manhattan dataset. \n",
    "df_MN.tail(10)"
   ]
  },
  {
   "cell_type": "code",
   "execution_count": null,
   "metadata": {},
   "outputs": [],
   "source": [
    "df_MN.dtypes # Verifying "
   ]
  },
  {
   "cell_type": "code",
   "execution_count": null,
   "metadata": {},
   "outputs": [],
   "source": [
    "# Collecting data before NYC re-opening on 06/21/2020 or from record 0 to record 113.\n",
    "data_MN=df_MN[0:114]\n",
    "data_Bronx=df_Bronx[0:114]\n",
    "data_BK=df_BK[0:114]\n",
    "data_QN=df_QN[0:114]\n",
    "data_SI=df_SI[0:114]\n"
   ]
  },
  {
   "cell_type": "code",
   "execution_count": null,
   "metadata": {},
   "outputs": [],
   "source": [
    "data_MN.tail() # Verifying after selection"
   ]
  },
  {
   "cell_type": "code",
   "execution_count": null,
   "metadata": {},
   "outputs": [],
   "source": [
    "# Get SUM values of Cases, Hospitalizations adn Deaths in 5 Boroughs\n",
    "data_MN.loc['total'] = data_MN.select_dtypes(pd.np.number).sum()\n",
    "Total_MN=data_MN.tail(1)\n",
    "data_Bronx.loc['total'] = data_Bronx.select_dtypes(pd.np.number).sum()\n",
    "Total_Bronx=data_Bronx.tail(1)\n",
    "data_BK.loc['total'] = data_BK.select_dtypes(pd.np.number).sum()\n",
    "Total_BK=data_BK.tail(1)\n",
    "data_QN.loc['total'] = data_QN.select_dtypes(pd.np.number).sum()\n",
    "Total_QN=data_QN.tail(1)\n",
    "data_SI.loc['total'] = data_SI.select_dtypes(pd.np.number).sum()\n",
    "Total_SI=data_SI.tail(1)"
   ]
  },
  {
   "cell_type": "code",
   "execution_count": null,
   "metadata": {},
   "outputs": [],
   "source": [
    "print(\"MN\",Total_MN)\n",
    "print(\"QN\",Total_QN)\n",
    "print(\"BK\",Total_BK)\n",
    "print(\"SI\",Total_SI)\n",
    "print(\"BX\",Total_Bronx)\n"
   ]
  },
  {
   "cell_type": "code",
   "execution_count": null,
   "metadata": {},
   "outputs": [],
   "source": [
    "# Combining all Sum data into one table\n",
    "df_total=Total_MN.append(Total_QN)\n",
    "df_total=df_total.append(Total_BK)\n",
    "df_total=df_total.append(Total_SI)\n",
    "df_total=df_total.append(Total_Bronx)\n",
    "df_total"
   ]
  },
  {
   "cell_type": "code",
   "execution_count": null,
   "metadata": {},
   "outputs": [],
   "source": [
    "# Drop the \"DATE_OF_INTEREST\" column\n",
    "df_total=df_total.drop([\"DATE_OF_INTEREST\"], axis = 1) \n",
    "df_total"
   ]
  },
  {
   "cell_type": "code",
   "execution_count": null,
   "metadata": {},
   "outputs": [],
   "source": [
    "df_total = pd.DataFrame(df_total) "
   ]
  },
  {
   "cell_type": "code",
   "execution_count": null,
   "metadata": {},
   "outputs": [],
   "source": [
    "df_total.dtypes"
   ]
  },
  {
   "cell_type": "code",
   "execution_count": null,
   "metadata": {},
   "outputs": [],
   "source": [
    "Borough = ['Manhattan','Queens','Brooklyn','Staten Island','Bronx']\n",
    "df_total.insert(0, \"Borough\", Borough, True)\n"
   ]
  },
  {
   "cell_type": "code",
   "execution_count": null,
   "metadata": {},
   "outputs": [],
   "source": [
    "df_total.reset_index(drop=True, inplace=True)"
   ]
  },
  {
   "cell_type": "code",
   "execution_count": null,
   "metadata": {},
   "outputs": [],
   "source": [
    "# The final step to get NYC Cov-19 virus table\n",
    "df_CoV=df_total.loc[:5]\n",
    "df_CoV"
   ]
  },
  {
   "cell_type": "code",
   "execution_count": null,
   "metadata": {},
   "outputs": [],
   "source": [
    "df_CoV.to_csv ('Cov_19_NYC.csv',index = False)\n",
    "# Save table "
   ]
  },
  {
   "cell_type": "markdown",
   "metadata": {},
   "source": [
    "<div id=\"NYC_Demographic_data\">\n",
    "    <h2>3. Acquisition and Processing NYC Demographic data </h2>\n",
    "        \n",
    "</div>\n",
    " Using BeautifulSoup to scrap demographic data from website"
   ]
  },
  {
   "cell_type": "code",
   "execution_count": null,
   "metadata": {},
   "outputs": [],
   "source": [
    "import os\n",
    "import re\n",
    "import requests\n",
    "from bs4 import BeautifulSoup\n",
    "!easy_install lxml\n",
    "!pip install lxml"
   ]
  },
  {
   "cell_type": "code",
   "execution_count": null,
   "metadata": {
    "scrolled": true
   },
   "outputs": [],
   "source": [
    "web_url1=requests.get('https://www.mapsofworld.com/usa/states/new-york/nyc-boroughs-map.html').text\n",
    "soup = BeautifulSoup(web_url1,'lxml')\n",
    "print(soup.prettify())"
   ]
  },
  {
   "cell_type": "code",
   "execution_count": null,
   "metadata": {},
   "outputs": [],
   "source": [
    "Demo_table = soup.find('table',{'class':'tableizer-table'})\n",
    "Demo_table"
   ]
  },
  {
   "cell_type": "code",
   "execution_count": null,
   "metadata": {},
   "outputs": [],
   "source": [
    "def process_num(num):\n",
    "    return float(re.sub(r'[^\\w\\s.]','',num))"
   ]
  },
  {
   "cell_type": "code",
   "execution_count": null,
   "metadata": {},
   "outputs": [],
   "source": [
    "num1 = float(re.sub(r'[^\\w\\s.]','','1,636,268'))\n",
    "num1"
   ]
  },
  {
   "cell_type": "code",
   "execution_count": null,
   "metadata": {},
   "outputs": [],
   "source": [
    "Boroughs =[]\n",
    "Counties =[]\n",
    "Area_sq_miles = []\n",
    "Populations=[]\n",
    "for table in Demo_table:\n",
    "    rows = Demo_table.find_all('tr')\n",
    "    \n",
    "    for row in rows:\n",
    "        cells = row.find_all('td')\n",
    "        \n",
    "        \n",
    "        if len(cells) > 1:\n",
    "            Borough = cells[0]\n",
    "            Boroughs.append(Borough.text.strip())\n",
    "            \n",
    "            County = cells[1]\n",
    "            Counties.append(County.text.strip())\n",
    "    \n",
    "            Area_sq_mile = cells[2]\n",
    "            Area_sq_miles.append(int(Area_sq_mile.text))\n",
    "            \n",
    "            Population = cells[3]\n",
    "            Populations.append(process_num(Population.text.strip()))\n",
    "            \n",
    "         "
   ]
  },
  {
   "cell_type": "code",
   "execution_count": null,
   "metadata": {},
   "outputs": [],
   "source": [
    "#Collecting data to DataFrame\n",
    "df1 = pd.DataFrame()\n",
    "df1['Borough'] = Boroughs\n",
    "df1['County'] = Counties\n",
    "df1['Area_sq_miles'] = Area_sq_miles\n",
    "df1['Population'] = Populations  \n",
    "df1.head()"
   ]
  },
  {
   "cell_type": "code",
   "execution_count": null,
   "metadata": {},
   "outputs": [],
   "source": [
    "print(df1.shape)"
   ]
  },
  {
   "cell_type": "code",
   "execution_count": null,
   "metadata": {},
   "outputs": [],
   "source": [
    "# Selecting 5 rows only, because of repeating\n",
    "df2=df1.drop(columns='County')\n",
    "df3=df2.loc[0:4]\n",
    "df3"
   ]
  },
  {
   "cell_type": "code",
   "execution_count": null,
   "metadata": {},
   "outputs": [],
   "source": [
    "df4=df3.replace(to_replace =\"The Bronx\", \n",
    "                 value =\"Bronx\", inplace=True) "
   ]
  },
  {
   "cell_type": "code",
   "execution_count": null,
   "metadata": {},
   "outputs": [],
   "source": [
    "from pandas import DataFrame\n",
    "df4=DataFrame(df3)\n",
    "df4.head()"
   ]
  },
  {
   "cell_type": "code",
   "execution_count": null,
   "metadata": {},
   "outputs": [],
   "source": [
    "df4[[\"Area_sq_miles\", \"Population\"]] = df3[[\"Area_sq_miles\", \"Population\"]].astype(\"float\")"
   ]
  },
  {
   "cell_type": "code",
   "execution_count": null,
   "metadata": {},
   "outputs": [],
   "source": [
    "# Count the population density or number of resident per square mile\n",
    "df4['Density']=df4['Population']/df4['Area_sq_miles']\n",
    "df4.round({\"Density\":0}) "
   ]
  },
  {
   "cell_type": "code",
   "execution_count": null,
   "metadata": {},
   "outputs": [],
   "source": [
    "df4.to_csv ('Demo_Newyork.csv',index = False)\n",
    "# Save table "
   ]
  },
  {
   "cell_type": "markdown",
   "metadata": {},
   "source": [
    "<div id=\"Final_Data\">\n",
    "    <h2>4. NYC Demographic and CoV-19 virus Data </h2>\n",
    "  \n",
    "</div>"
   ]
  },
  {
   "cell_type": "code",
   "execution_count": null,
   "metadata": {},
   "outputs": [],
   "source": [
    "# Combination of Demographic table and Covid-19 table\n",
    "df_uni=pd.merge(df4,df_CoV, on='Borough')\n",
    "df_uni"
   ]
  },
  {
   "cell_type": "code",
   "execution_count": null,
   "metadata": {},
   "outputs": [],
   "source": [
    "df_uni['Cases_per_sqmile']=df_uni['Cases']/df_uni['Area_sq_miles']\n",
    "df_uni.round({\"Cases_per_sqmile\":0}) \n",
    "df_uni['Cases_per_10000']=df_uni['Cases']*10000/df_uni['Population']\n",
    "df_uni.round({\"Cases_per_10000\":0})"
   ]
  },
  {
   "cell_type": "code",
   "execution_count": null,
   "metadata": {},
   "outputs": [],
   "source": [
    "# Select the columns for Visual analysis\n",
    "df_zone = pd.DataFrame(df_uni,columns=['Borough','Cases_per_sqmile','Cases_per_10000','Area_sq_miles']) \n"
   ]
  },
  {
   "cell_type": "code",
   "execution_count": null,
   "metadata": {},
   "outputs": [],
   "source": [
    "df_zone.sort_values(by='Cases_per_sqmile', inplace=True, ascending=False)\n",
    "df_zone.reset_index(drop=True, inplace=True)     \n",
    "df_zone"
   ]
  },
  {
   "cell_type": "code",
   "execution_count": null,
   "metadata": {},
   "outputs": [],
   "source": [
    "df_zone.to_csv ('NYC_Demo_CoV.csv',index = False)\n",
    "# Save table "
   ]
  },
  {
   "cell_type": "markdown",
   "metadata": {},
   "source": [
    "<div id=\"Visualization\">\n",
    "    <h2>5. Visualization </h2>\n",
    "  \n",
    "</div>"
   ]
  },
  {
   "cell_type": "code",
   "execution_count": null,
   "metadata": {},
   "outputs": [],
   "source": [
    "%matplotlib inline\n",
    "import matplotlib as mpl\n",
    "import matplotlib.pyplot as plt\n",
    "import matplotlib.patches as mpatches # needed for waffle Charts\n",
    "\n",
    "mpl.style.use('ggplot') # optional: for ggplot-like style\n",
    "\n",
    "# check for latest version of Matplotlib\n",
    "print ('Matplotlib version: ', mpl.__version__) # >= 2.0.0"
   ]
  },
  {
   "cell_type": "code",
   "execution_count": null,
   "metadata": {},
   "outputs": [],
   "source": [
    "import seaborn as sns\n",
    "print('Seaborn installed and imported!')"
   ]
  },
  {
   "cell_type": "code",
   "execution_count": null,
   "metadata": {},
   "outputs": [],
   "source": [
    "ax = df_CoV.loc[0:4].plot(kind='bar', stacked=False, figsize=(20, 8)\n",
    "                   )\n",
    "ax.set_title((\"Figure1:Total Covid_19 impact in NYC until June 21st \"), fontsize=18)\n",
    "#ax.set_axcolor('grey')\n",
    "ax.set_xticklabels(df_CoV['Borough'])\n",
    "\n",
    "plt.show()"
   ]
  },
  {
   "cell_type": "code",
   "execution_count": null,
   "metadata": {},
   "outputs": [],
   "source": [
    "ax = df_zone.loc[0:5].plot(kind='bar', stacked=False, figsize=(20, 8))\n",
    "                    \n",
    "ax.set_title((\"Figure2:Covid-19 Cases per square miles and per 10000\"), fontsize=18)\n",
    "\n",
    "ax.set_xticklabels(df_zone['Borough'])\n",
    "\n",
    "plt.show()"
   ]
  },
  {
   "cell_type": "markdown",
   "metadata": {},
   "source": [
    "<div id=\"evaluation\">\n",
    "    <h2>6. Evaluation </h2>\n",
    "  \n",
    "</div>"
   ]
  },
  {
   "cell_type": "markdown",
   "metadata": {},
   "source": [
    "<div >\n",
    "    <br>\n",
    "    Figure 2 shows: Bronx and Manhattan are leading with approximately 1100 per square mile. Bronx also has the highest cases per 10000.\n",
    "    <br>\n",
    "    Based upon the cases per square mile and cases per 10000, apparently Bronx is the most affected borough by the virus.         \n",
    "    <br>\n",
    "    From these 2 points, 2 groups are selected for further evaluation:\n",
    "        <br>\n",
    "        <br> Group 1 with dominant cases per square includes Bronx and Manhattan\n",
    "        <br> Group 2 with higher cases includes Brooklyn and Queens.\n",
    "        <br> Staten Island stands in the third category.\n",
    "</div>"
   ]
  },
  {
   "cell_type": "code",
   "execution_count": null,
   "metadata": {},
   "outputs": [],
   "source": []
  }
 ],
 "metadata": {
  "kernelspec": {
   "display_name": "Python 3",
   "language": "python",
   "name": "python3"
  },
  "language_info": {
   "codemirror_mode": {
    "name": "ipython",
    "version": 3
   },
   "file_extension": ".py",
   "mimetype": "text/x-python",
   "name": "python",
   "nbconvert_exporter": "python",
   "pygments_lexer": "ipython3",
   "version": "3.7.6"
  }
 },
 "nbformat": 4,
 "nbformat_minor": 4
}
